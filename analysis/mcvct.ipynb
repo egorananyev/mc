{
 "cells": [
  {
   "cell_type": "markdown",
   "metadata": {},
   "source": [
    "# Behavioural analysis"
   ]
  },
  {
   "cell_type": "markdown",
   "metadata": {},
   "source": [
    "## Preparing the data"
   ]
  },
  {
   "cell_type": "code",
   "execution_count": 3,
   "metadata": {
    "collapsed": false
   },
   "outputs": [],
   "source": [
    "import numpy as np\n",
    "import pandas as pd\n",
    "import matplotlib.pyplot as plt\n",
    "import seaborn as sns\n",
    "import os, glob"
   ]
  },
  {
   "cell_type": "markdown",
   "metadata": {},
   "source": [
    "Loading the data:"
   ]
  },
  {
   "cell_type": "code",
   "execution_count": 4,
   "metadata": {
    "collapsed": false
   },
   "outputs": [
    {
     "name": "stdout",
     "output_type": "stream",
     "text": [
      "/Users/egor/Dropbox/Projects/mc/data/mcvct/mcvct_p0_s1_2016-10-18_1556\n",
      "/Users/egor/Dropbox/Projects/mc/data/mcvct/mcvct_p0_s2_2016-10-25_1649\n",
      "/Users/egor/Dropbox/Projects/mc/data/mcvct/mcvct_p0_s3_2016-10-25_1700\n",
      "/Users/egor/Dropbox/Projects/mc/data/mcvct/mcvct_p1_s1_2016-10-25_1101\n",
      "/Users/egor/Dropbox/Projects/mc/data/mcvct/mcvct_p1_s2_2016-10-25_1110\n",
      "/Users/egor/Dropbox/Projects/mc/data/mcvct/mcvct_p1_s3_2016-10-25_1125\n",
      "/Users/egor/Dropbox/Projects/mc/data/mcvct/mcvct_p2_s1_2016-10-25_1541\n",
      "/Users/egor/Dropbox/Projects/mc/data/mcvct/mcvct_p2_s2_2016-10-25_1559\n",
      "/Users/egor/Dropbox/Projects/mc/data/mcvct/mcvct_p2_s3_2016-10-25_1617\n",
      "/Users/egor/Dropbox/Projects/mc/data/mcvct/mcvct_p3_s1_2016-10-26_1655\n",
      "(960, 39)\n",
      "Index([u'expName', u'time', u'participant', u'session', u'trialN', u'dirL', u'dirR', u'vL', u'vR', u'szL', u'szR', u'sfL', u'sfR', u'tfL', u'tfR', u'BvL', u'BvR', u'BsfL', u'BsfR', u'colorL', u'colorR', u'sat', u'fovGap', u'fovFade', u'periGap', u'periFade', u'trialT', u'nFrames', u'nNa', u'nf000', u'nf090', u'nf180', u'nf270', u'pd000', u'pd090', u'pd180', u'pd270', u'qnResp', u'ringSz'], dtype='object')\n"
     ]
    }
   ],
   "source": [
    "%matplotlib inline\n",
    "plt.style.use('dark_background')\n",
    "expName = 'mcvct'\n",
    "dataDir = os.path.abspath(os.path.join(os.getcwd(), '..', '..', 'data/', expName))\n",
    "allSubjDirs = glob.glob(dataDir + '/' + expName + '*')\n",
    "#print allSubjDirs\n",
    "ds = pd.DataFrame()\n",
    "for subjDir in allSubjDirs:\n",
    "    print subjDir\n",
    "    subjFilePath = glob.glob(subjDir + '/' + expName + '*.csv')[0]\n",
    "    #print subjFilePath\n",
    "    #ss = pd.read_csv(subjFilePath)\n",
    "    ds = ds.append(pd.read_csv(subjFilePath))\n",
    "#print ds.head(5)\n",
    "print ds.shape\n",
    "print ds.columns"
   ]
  },
  {
   "cell_type": "markdown",
   "metadata": {},
   "source": [
    "Transforming the data set first."
   ]
  },
  {
   "cell_type": "code",
   "execution_count": 5,
   "metadata": {
    "collapsed": false
   },
   "outputs": [
    {
     "name": "stdout",
     "output_type": "stream",
     "text": [
      "     expName             time  participant  session  trialN  dirL  dirR   vL  \\\n",
      "0  mcvct_bv0  2016-10-18_1556            0        1       1   180     0  0.6   \n",
      "1  mcvct_bv0  2016-10-18_1556            0        1       2     0   180  1.2   \n",
      "2  mcvct_bv0  2016-10-18_1556            0        1       3     0   180  4.8   \n",
      "3  mcvct_bv0  2016-10-18_1556            0        1       4     0   180  4.8   \n",
      "4  mcvct_bv0  2016-10-18_1556            0        1       5     0   180  2.4   \n",
      "\n",
      "    vR  szL ...      pd000  pd090  pd180     pd270  qnResp    ringSz  vDiffR  \\\n",
      "0  4.8  256 ...   0.000000      0      0  0.016667       0      25.8     4.2   \n",
      "1  2.4  256 ...   0.016667      0      0  0.000000       0  99.51429     1.2   \n",
      "2  9.6  256 ...   0.016667      0      0  0.000000       0  136.3714     4.8   \n",
      "3  0.3  256 ...   0.000000      0      0  0.016667       0  136.3714    -4.5   \n",
      "4  0.0  256 ...   0.000000      0      0  0.016667       0  136.3714    -2.4   \n",
      "\n",
      "   nfR  v000 v180  \n",
      "0    0   4.8  0.6  \n",
      "1    1   1.2  2.4  \n",
      "2    1   4.8  9.6  \n",
      "3    0   4.8  0.3  \n",
      "4    0   2.4  0.0  \n",
      "\n",
      "[5 rows x 43 columns]\n"
     ]
    }
   ],
   "source": [
    "ds['vDiffR'] = ds['vR'] - ds['vL']\n",
    "ds['nfR'] = ds['nf000'] - ds['nf180']\n",
    "ds = ds.reset_index(drop=True) # resetting the index as there are row duplicates\n",
    "ds.ix[ds['dirL']==0,'v000'] = ds['vL']\n",
    "ds.ix[ds['dirR']==0,'v000'] = ds['vR']\n",
    "ds.ix[ds['dirL']==180,'v180'] = ds['vL']\n",
    "ds.ix[ds['dirR']==180,'v180'] = ds['vR']\n",
    "print ds.head(5)\n",
    "#df = pd.melt(ds, id_vars=['trialN','dirL','dirR','vL','vR','colorNameL','colorNameR','fovGap'],\n",
    "#             value_vars=['pd000','pd090','pd180','pd270'])\n",
    "#df = df.rename(columns={'variable': 'angle', 'value': 'predominance'})\n",
    "#print df.head(5)"
   ]
  },
  {
   "cell_type": "markdown",
   "metadata": {},
   "source": [
    "## Visualization"
   ]
  },
  {
   "cell_type": "markdown",
   "metadata": {},
   "source": [
    "These plots show the speed at which the directional predominance was indicated the most (in terms of proportion)."
   ]
  },
  {
   "cell_type": "code",
   "execution_count": 6,
   "metadata": {
    "collapsed": false
   },
   "outputs": [
    {
     "ename": "ValueError",
     "evalue": "Could not interpret input 'mean'",
     "output_type": "error",
     "traceback": [
      "\u001b[0;31m---------------------------------------------------------------------------\u001b[0m",
      "\u001b[0;31mValueError\u001b[0m                                Traceback (most recent call last)",
      "\u001b[0;32m<ipython-input-6-7b669ab4680c>\u001b[0m in \u001b[0;36m<module>\u001b[0;34m()\u001b[0m\n\u001b[1;32m      1\u001b[0m \u001b[0msumR\u001b[0m \u001b[0;34m=\u001b[0m \u001b[0mds\u001b[0m\u001b[0;34m.\u001b[0m\u001b[0mgroupby\u001b[0m\u001b[0;34m(\u001b[0m\u001b[0;34m[\u001b[0m\u001b[0;34m'v000'\u001b[0m\u001b[0;34m,\u001b[0m\u001b[0;34m'participant'\u001b[0m\u001b[0;34m]\u001b[0m\u001b[0;34m,\u001b[0m \u001b[0mas_index\u001b[0m\u001b[0;34m=\u001b[0m\u001b[0mFalse\u001b[0m\u001b[0;34m)\u001b[0m\u001b[0;34m[\u001b[0m\u001b[0;34m'nf000'\u001b[0m\u001b[0;34m]\u001b[0m\u001b[0;34m.\u001b[0m\u001b[0magg\u001b[0m\u001b[0;34m(\u001b[0m\u001b[0;34m[\u001b[0m\u001b[0mnp\u001b[0m\u001b[0;34m.\u001b[0m\u001b[0msum\u001b[0m\u001b[0;34m,\u001b[0m \u001b[0mnp\u001b[0m\u001b[0;34m.\u001b[0m\u001b[0mmean\u001b[0m\u001b[0;34m,\u001b[0m \u001b[0mnp\u001b[0m\u001b[0;34m.\u001b[0m\u001b[0mstd\u001b[0m\u001b[0;34m,\u001b[0m \u001b[0mnp\u001b[0m\u001b[0;34m.\u001b[0m\u001b[0msize\u001b[0m\u001b[0;34m]\u001b[0m\u001b[0;34m)\u001b[0m\u001b[0;34m.\u001b[0m\u001b[0mreset_index\u001b[0m\u001b[0;34m(\u001b[0m\u001b[0;34m)\u001b[0m\u001b[0;34m\u001b[0m\u001b[0m\n\u001b[1;32m      2\u001b[0m \u001b[0msumL\u001b[0m \u001b[0;34m=\u001b[0m \u001b[0mds\u001b[0m\u001b[0;34m.\u001b[0m\u001b[0mgroupby\u001b[0m\u001b[0;34m(\u001b[0m\u001b[0;34m[\u001b[0m\u001b[0;34m'v180'\u001b[0m\u001b[0;34m,\u001b[0m\u001b[0;34m'participant'\u001b[0m\u001b[0;34m]\u001b[0m\u001b[0;34m,\u001b[0m \u001b[0mas_index\u001b[0m\u001b[0;34m=\u001b[0m\u001b[0mFalse\u001b[0m\u001b[0;34m)\u001b[0m\u001b[0;34m[\u001b[0m\u001b[0;34m'nf180'\u001b[0m\u001b[0;34m]\u001b[0m\u001b[0;34m.\u001b[0m\u001b[0magg\u001b[0m\u001b[0;34m(\u001b[0m\u001b[0;34m[\u001b[0m\u001b[0mnp\u001b[0m\u001b[0;34m.\u001b[0m\u001b[0msum\u001b[0m\u001b[0;34m,\u001b[0m \u001b[0mnp\u001b[0m\u001b[0;34m.\u001b[0m\u001b[0mmean\u001b[0m\u001b[0;34m,\u001b[0m \u001b[0mnp\u001b[0m\u001b[0;34m.\u001b[0m\u001b[0mstd\u001b[0m\u001b[0;34m,\u001b[0m \u001b[0mnp\u001b[0m\u001b[0;34m.\u001b[0m\u001b[0msize\u001b[0m\u001b[0;34m]\u001b[0m\u001b[0;34m)\u001b[0m\u001b[0;34m.\u001b[0m\u001b[0mreset_index\u001b[0m\u001b[0;34m(\u001b[0m\u001b[0;34m)\u001b[0m\u001b[0;34m\u001b[0m\u001b[0m\n\u001b[0;32m----> 3\u001b[0;31m \u001b[0mg\u001b[0m \u001b[0;34m=\u001b[0m \u001b[0msns\u001b[0m\u001b[0;34m.\u001b[0m\u001b[0mfactorplot\u001b[0m\u001b[0;34m(\u001b[0m\u001b[0mx\u001b[0m\u001b[0;34m=\u001b[0m\u001b[0;34m'v000'\u001b[0m\u001b[0;34m,\u001b[0m \u001b[0my\u001b[0m\u001b[0;34m=\u001b[0m\u001b[0;34m'mean'\u001b[0m\u001b[0;34m,\u001b[0m \u001b[0mcol\u001b[0m\u001b[0;34m=\u001b[0m\u001b[0;34m'participant'\u001b[0m\u001b[0;34m,\u001b[0m \u001b[0mdata\u001b[0m\u001b[0;34m=\u001b[0m\u001b[0msumR\u001b[0m\u001b[0;34m,\u001b[0m \u001b[0msize\u001b[0m\u001b[0;34m=\u001b[0m\u001b[0;36m2\u001b[0m\u001b[0;34m)\u001b[0m\u001b[0;34m\u001b[0m\u001b[0m\n\u001b[0m\u001b[1;32m      4\u001b[0m \u001b[0mg\u001b[0m \u001b[0;34m=\u001b[0m \u001b[0msns\u001b[0m\u001b[0;34m.\u001b[0m\u001b[0mfactorplot\u001b[0m\u001b[0;34m(\u001b[0m\u001b[0mx\u001b[0m\u001b[0;34m=\u001b[0m\u001b[0;34m'v180'\u001b[0m\u001b[0;34m,\u001b[0m \u001b[0my\u001b[0m\u001b[0;34m=\u001b[0m\u001b[0;34m'mean'\u001b[0m\u001b[0;34m,\u001b[0m \u001b[0mcol\u001b[0m\u001b[0;34m=\u001b[0m\u001b[0;34m'participant'\u001b[0m\u001b[0;34m,\u001b[0m \u001b[0mdata\u001b[0m\u001b[0;34m=\u001b[0m\u001b[0msumL\u001b[0m\u001b[0;34m,\u001b[0m \u001b[0msize\u001b[0m\u001b[0;34m=\u001b[0m\u001b[0;36m2\u001b[0m\u001b[0;34m)\u001b[0m\u001b[0;34m\u001b[0m\u001b[0m\n",
      "\u001b[0;32m/Users/egor/Library/Enthought/Canopy_32bit/User/lib/python2.7/site-packages/seaborn/categorical.pyc\u001b[0m in \u001b[0;36mfactorplot\u001b[0;34m(x, y, hue, data, row, col, col_wrap, estimator, ci, n_boot, units, order, hue_order, row_order, col_order, kind, size, aspect, orient, color, palette, legend, legend_out, sharex, sharey, margin_titles, facet_kws, **kwargs)\u001b[0m\n\u001b[1;32m   3389\u001b[0m     \u001b[0;31m# facets to ensure representation of all data in the final plot\u001b[0m\u001b[0;34m\u001b[0m\u001b[0;34m\u001b[0m\u001b[0m\n\u001b[1;32m   3390\u001b[0m     \u001b[0mp\u001b[0m \u001b[0;34m=\u001b[0m \u001b[0m_CategoricalPlotter\u001b[0m\u001b[0;34m(\u001b[0m\u001b[0;34m)\u001b[0m\u001b[0;34m\u001b[0m\u001b[0m\n\u001b[0;32m-> 3391\u001b[0;31m     \u001b[0mp\u001b[0m\u001b[0;34m.\u001b[0m\u001b[0mestablish_variables\u001b[0m\u001b[0;34m(\u001b[0m\u001b[0mx_\u001b[0m\u001b[0;34m,\u001b[0m \u001b[0my_\u001b[0m\u001b[0;34m,\u001b[0m \u001b[0mhue\u001b[0m\u001b[0;34m,\u001b[0m \u001b[0mdata\u001b[0m\u001b[0;34m,\u001b[0m \u001b[0morient\u001b[0m\u001b[0;34m,\u001b[0m \u001b[0morder\u001b[0m\u001b[0;34m,\u001b[0m \u001b[0mhue_order\u001b[0m\u001b[0;34m)\u001b[0m\u001b[0;34m\u001b[0m\u001b[0m\n\u001b[0m\u001b[1;32m   3392\u001b[0m     \u001b[0morder\u001b[0m \u001b[0;34m=\u001b[0m \u001b[0mp\u001b[0m\u001b[0;34m.\u001b[0m\u001b[0mgroup_names\u001b[0m\u001b[0;34m\u001b[0m\u001b[0m\n\u001b[1;32m   3393\u001b[0m     \u001b[0mhue_order\u001b[0m \u001b[0;34m=\u001b[0m \u001b[0mp\u001b[0m\u001b[0;34m.\u001b[0m\u001b[0mhue_names\u001b[0m\u001b[0;34m\u001b[0m\u001b[0m\n",
      "\u001b[0;32m/Users/egor/Library/Enthought/Canopy_32bit/User/lib/python2.7/site-packages/seaborn/categorical.pyc\u001b[0m in \u001b[0;36mestablish_variables\u001b[0;34m(self, x, y, hue, data, orient, order, hue_order, units)\u001b[0m\n\u001b[1;32m    149\u001b[0m                 \u001b[0;32mif\u001b[0m \u001b[0misinstance\u001b[0m\u001b[0;34m(\u001b[0m\u001b[0minput\u001b[0m\u001b[0;34m,\u001b[0m \u001b[0mstring_types\u001b[0m\u001b[0;34m)\u001b[0m\u001b[0;34m:\u001b[0m\u001b[0;34m\u001b[0m\u001b[0m\n\u001b[1;32m    150\u001b[0m                     \u001b[0merr\u001b[0m \u001b[0;34m=\u001b[0m \u001b[0;34m\"Could not interpret input '{}'\"\u001b[0m\u001b[0;34m.\u001b[0m\u001b[0mformat\u001b[0m\u001b[0;34m(\u001b[0m\u001b[0minput\u001b[0m\u001b[0;34m)\u001b[0m\u001b[0;34m\u001b[0m\u001b[0m\n\u001b[0;32m--> 151\u001b[0;31m                     \u001b[0;32mraise\u001b[0m \u001b[0mValueError\u001b[0m\u001b[0;34m(\u001b[0m\u001b[0merr\u001b[0m\u001b[0;34m)\u001b[0m\u001b[0;34m\u001b[0m\u001b[0m\n\u001b[0m\u001b[1;32m    152\u001b[0m \u001b[0;34m\u001b[0m\u001b[0m\n\u001b[1;32m    153\u001b[0m             \u001b[0;31m# Figure out the plotting orientation\u001b[0m\u001b[0;34m\u001b[0m\u001b[0;34m\u001b[0m\u001b[0m\n",
      "\u001b[0;31mValueError\u001b[0m: Could not interpret input 'mean'"
     ]
    }
   ],
   "source": [
    "sumR = ds.groupby(['v000','participant'], as_index=False)['nf000'].agg([np.sum, np.mean, np.std, np.size]).reset_index()\n",
    "sumL = ds.groupby(['v180','participant'], as_index=False)['nf180'].agg([np.sum, np.mean, np.std, np.size]).reset_index()\n",
    "g = sns.factorplot(x='v000', y='mean', col='participant', data=sumR, size=2)\n",
    "g = sns.factorplot(x='v180', y='mean', col='participant', data=sumL, size=2)"
   ]
  },
  {
   "cell_type": "raw",
   "metadata": {},
   "source": [
    "Looking at the downward predominance (i.e., stationary motion is predominant in the center) as a function of speeds. The following two plots do not distinguish between the cases when the center predominant motion was different from the surround."
   ]
  },
  {
   "cell_type": "code",
   "execution_count": 102,
   "metadata": {
    "collapsed": false
   },
   "outputs": [
    {
     "data": {
      "image/png": "[encoded data removed]",
      "text/plain": [
       "<matplotlib.figure.Figure at 0x10b0e89d0>"
      ]
     },
     "metadata": {},
     "output_type": "display_data"
    },
    {
     "data": {
      "image/png": "[encoded data removed]",
      "text/plain": [
       "<matplotlib.figure.Figure at 0x10c669510>"
      ]
     },
     "metadata": {},
     "output_type": "display_data"
    }
   ],
   "source": [
    "sumDR = ds.groupby(['v000','participant'], as_index=False)['nf270'].agg([np.sum, np.mean, np.std, np.size]).reset_index()\n",
    "sumDL = ds.groupby(['v180','participant'], as_index=False)['nf270'].agg([np.sum, np.mean, np.std, np.size]).reset_index()\n",
    "#sumDR['nf270','v000'] = sumDR['v000']\n",
    "#sumDL['nf270','v180'] = sumDL['v180']\n",
    "g = sns.factorplot(x='v000', y='mean', col='participant', data=sumDR, size=2.5)\n",
    "g = sns.factorplot(x='v180', y='mean', col='participant', data=sumDL, size=2.5)"
   ]
  },
  {
   "cell_type": "code",
   "execution_count": 103,
   "metadata": {
    "collapsed": false
   },
   "outputs": [
    {
     "data": {
      "text/html": [
       "<div>\n",
       "<table border=\"1\" class=\"dataframe\">\n",
       "  <thead>\n",
       "    <tr style=\"text-align: right;\">\n",
       "      <th></th>\n",
       "      <th>v000</th>\n",
       "      <th>participant</th>\n",
       "      <th>sum</th>\n",
       "      <th>mean</th>\n",
       "      <th>std</th>\n",
       "      <th>size</th>\n",
       "    </tr>\n",
       "  </thead>\n",
       "  <tbody>\n",
       "    <tr>\n",
       "      <th>0</th>\n",
       "      <td>0.0</td>\n",
       "      <td>0</td>\n",
       "      <td>30</td>\n",
       "      <td>0.833333</td>\n",
       "      <td>0.377964</td>\n",
       "      <td>36</td>\n",
       "    </tr>\n",
       "    <tr>\n",
       "      <th>1</th>\n",
       "      <td>0.0</td>\n",
       "      <td>1</td>\n",
       "      <td>26</td>\n",
       "      <td>0.722222</td>\n",
       "      <td>0.454257</td>\n",
       "      <td>36</td>\n",
       "    </tr>\n",
       "    <tr>\n",
       "      <th>2</th>\n",
       "      <td>0.0</td>\n",
       "      <td>2</td>\n",
       "      <td>28</td>\n",
       "      <td>0.777778</td>\n",
       "      <td>0.421637</td>\n",
       "      <td>36</td>\n",
       "    </tr>\n",
       "    <tr>\n",
       "      <th>3</th>\n",
       "      <td>0.3</td>\n",
       "      <td>0</td>\n",
       "      <td>39</td>\n",
       "      <td>0.928571</td>\n",
       "      <td>0.260661</td>\n",
       "      <td>42</td>\n",
       "    </tr>\n",
       "    <tr>\n",
       "      <th>4</th>\n",
       "      <td>0.3</td>\n",
       "      <td>1</td>\n",
       "      <td>32</td>\n",
       "      <td>0.761905</td>\n",
       "      <td>0.431081</td>\n",
       "      <td>42</td>\n",
       "    </tr>\n",
       "    <tr>\n",
       "      <th>5</th>\n",
       "      <td>0.3</td>\n",
       "      <td>2</td>\n",
       "      <td>31</td>\n",
       "      <td>0.738095</td>\n",
       "      <td>0.445001</td>\n",
       "      <td>42</td>\n",
       "    </tr>\n",
       "    <tr>\n",
       "      <th>6</th>\n",
       "      <td>0.6</td>\n",
       "      <td>0</td>\n",
       "      <td>39</td>\n",
       "      <td>0.928571</td>\n",
       "      <td>0.260661</td>\n",
       "      <td>42</td>\n",
       "    </tr>\n",
       "    <tr>\n",
       "      <th>7</th>\n",
       "      <td>0.6</td>\n",
       "      <td>1</td>\n",
       "      <td>32</td>\n",
       "      <td>0.761905</td>\n",
       "      <td>0.431081</td>\n",
       "      <td>42</td>\n",
       "    </tr>\n",
       "    <tr>\n",
       "      <th>8</th>\n",
       "      <td>0.6</td>\n",
       "      <td>2</td>\n",
       "      <td>34</td>\n",
       "      <td>0.809524</td>\n",
       "      <td>0.397437</td>\n",
       "      <td>42</td>\n",
       "    </tr>\n",
       "    <tr>\n",
       "      <th>9</th>\n",
       "      <td>1.2</td>\n",
       "      <td>0</td>\n",
       "      <td>13</td>\n",
       "      <td>0.309524</td>\n",
       "      <td>0.467901</td>\n",
       "      <td>42</td>\n",
       "    </tr>\n",
       "    <tr>\n",
       "      <th>10</th>\n",
       "      <td>1.2</td>\n",
       "      <td>1</td>\n",
       "      <td>19</td>\n",
       "      <td>0.452381</td>\n",
       "      <td>0.503761</td>\n",
       "      <td>42</td>\n",
       "    </tr>\n",
       "    <tr>\n",
       "      <th>11</th>\n",
       "      <td>1.2</td>\n",
       "      <td>2</td>\n",
       "      <td>30</td>\n",
       "      <td>0.714286</td>\n",
       "      <td>0.457230</td>\n",
       "      <td>42</td>\n",
       "    </tr>\n",
       "    <tr>\n",
       "      <th>12</th>\n",
       "      <td>2.4</td>\n",
       "      <td>0</td>\n",
       "      <td>10</td>\n",
       "      <td>0.238095</td>\n",
       "      <td>0.431081</td>\n",
       "      <td>42</td>\n",
       "    </tr>\n",
       "    <tr>\n",
       "      <th>13</th>\n",
       "      <td>2.4</td>\n",
       "      <td>1</td>\n",
       "      <td>15</td>\n",
       "      <td>0.357143</td>\n",
       "      <td>0.484966</td>\n",
       "      <td>42</td>\n",
       "    </tr>\n",
       "    <tr>\n",
       "      <th>14</th>\n",
       "      <td>2.4</td>\n",
       "      <td>2</td>\n",
       "      <td>21</td>\n",
       "      <td>0.500000</td>\n",
       "      <td>0.506061</td>\n",
       "      <td>42</td>\n",
       "    </tr>\n",
       "    <tr>\n",
       "      <th>15</th>\n",
       "      <td>4.8</td>\n",
       "      <td>0</td>\n",
       "      <td>17</td>\n",
       "      <td>0.404762</td>\n",
       "      <td>0.496796</td>\n",
       "      <td>42</td>\n",
       "    </tr>\n",
       "    <tr>\n",
       "      <th>16</th>\n",
       "      <td>4.8</td>\n",
       "      <td>1</td>\n",
       "      <td>18</td>\n",
       "      <td>0.428571</td>\n",
       "      <td>0.500870</td>\n",
       "      <td>42</td>\n",
       "    </tr>\n",
       "    <tr>\n",
       "      <th>17</th>\n",
       "      <td>4.8</td>\n",
       "      <td>2</td>\n",
       "      <td>11</td>\n",
       "      <td>0.261905</td>\n",
       "      <td>0.445001</td>\n",
       "      <td>42</td>\n",
       "    </tr>\n",
       "    <tr>\n",
       "      <th>18</th>\n",
       "      <td>9.6</td>\n",
       "      <td>0</td>\n",
       "      <td>20</td>\n",
       "      <td>0.476190</td>\n",
       "      <td>0.505487</td>\n",
       "      <td>42</td>\n",
       "    </tr>\n",
       "    <tr>\n",
       "      <th>19</th>\n",
       "      <td>9.6</td>\n",
       "      <td>1</td>\n",
       "      <td>23</td>\n",
       "      <td>0.547619</td>\n",
       "      <td>0.503761</td>\n",
       "      <td>42</td>\n",
       "    </tr>\n",
       "    <tr>\n",
       "      <th>20</th>\n",
       "      <td>9.6</td>\n",
       "      <td>2</td>\n",
       "      <td>17</td>\n",
       "      <td>0.404762</td>\n",
       "      <td>0.496796</td>\n",
       "      <td>42</td>\n",
       "    </tr>\n",
       "  </tbody>\n",
       "</table>\n",
       "</div>"
      ],
      "text/plain": [
       "    v000  participant  sum      mean       std  size\n",
       "0    0.0            0   30  0.833333  0.377964    36\n",
       "1    0.0            1   26  0.722222  0.454257    36\n",
       "2    0.0            2   28  0.777778  0.421637    36\n",
       "3    0.3            0   39  0.928571  0.260661    42\n",
       "4    0.3            1   32  0.761905  0.431081    42\n",
       "5    0.3            2   31  0.738095  0.445001    42\n",
       "6    0.6            0   39  0.928571  0.260661    42\n",
       "7    0.6            1   32  0.761905  0.431081    42\n",
       "8    0.6            2   34  0.809524  0.397437    42\n",
       "9    1.2            0   13  0.309524  0.467901    42\n",
       "10   1.2            1   19  0.452381  0.503761    42\n",
       "11   1.2            2   30  0.714286  0.457230    42\n",
       "12   2.4            0   10  0.238095  0.431081    42\n",
       "13   2.4            1   15  0.357143  0.484966    42\n",
       "14   2.4            2   21  0.500000  0.506061    42\n",
       "15   4.8            0   17  0.404762  0.496796    42\n",
       "16   4.8            1   18  0.428571  0.500870    42\n",
       "17   4.8            2   11  0.261905  0.445001    42\n",
       "18   9.6            0   20  0.476190  0.505487    42\n",
       "19   9.6            1   23  0.547619  0.503761    42\n",
       "20   9.6            2   17  0.404762  0.496796    42"
      ]
     },
     "execution_count": 103,
     "metadata": {},
     "output_type": "execute_result"
    }
   ],
   "source": [
    "sumDR"
   ]
  },
  {
   "cell_type": "code",
   "execution_count": 104,
   "metadata": {
    "collapsed": false
   },
   "outputs": [
    {
     "data": {
      "text/html": [
       "<div>\n",
       "<table border=\"1\" class=\"dataframe\">\n",
       "  <thead>\n",
       "    <tr style=\"text-align: right;\">\n",
       "      <th></th>\n",
       "      <th>v180</th>\n",
       "      <th>participant</th>\n",
       "      <th>sum</th>\n",
       "      <th>mean</th>\n",
       "      <th>std</th>\n",
       "      <th>size</th>\n",
       "    </tr>\n",
       "  </thead>\n",
       "  <tbody>\n",
       "    <tr>\n",
       "      <th>0</th>\n",
       "      <td>0.0</td>\n",
       "      <td>0</td>\n",
       "      <td>28</td>\n",
       "      <td>0.777778</td>\n",
       "      <td>0.421637</td>\n",
       "      <td>36</td>\n",
       "    </tr>\n",
       "    <tr>\n",
       "      <th>1</th>\n",
       "      <td>0.0</td>\n",
       "      <td>1</td>\n",
       "      <td>30</td>\n",
       "      <td>0.833333</td>\n",
       "      <td>0.377964</td>\n",
       "      <td>36</td>\n",
       "    </tr>\n",
       "    <tr>\n",
       "      <th>2</th>\n",
       "      <td>0.0</td>\n",
       "      <td>2</td>\n",
       "      <td>29</td>\n",
       "      <td>0.805556</td>\n",
       "      <td>0.401386</td>\n",
       "      <td>36</td>\n",
       "    </tr>\n",
       "    <tr>\n",
       "      <th>3</th>\n",
       "      <td>0.3</td>\n",
       "      <td>0</td>\n",
       "      <td>34</td>\n",
       "      <td>0.809524</td>\n",
       "      <td>0.397437</td>\n",
       "      <td>42</td>\n",
       "    </tr>\n",
       "    <tr>\n",
       "      <th>4</th>\n",
       "      <td>0.3</td>\n",
       "      <td>1</td>\n",
       "      <td>34</td>\n",
       "      <td>0.809524</td>\n",
       "      <td>0.397437</td>\n",
       "      <td>42</td>\n",
       "    </tr>\n",
       "    <tr>\n",
       "      <th>5</th>\n",
       "      <td>0.3</td>\n",
       "      <td>2</td>\n",
       "      <td>34</td>\n",
       "      <td>0.809524</td>\n",
       "      <td>0.397437</td>\n",
       "      <td>42</td>\n",
       "    </tr>\n",
       "    <tr>\n",
       "      <th>6</th>\n",
       "      <td>0.6</td>\n",
       "      <td>0</td>\n",
       "      <td>31</td>\n",
       "      <td>0.738095</td>\n",
       "      <td>0.445001</td>\n",
       "      <td>42</td>\n",
       "    </tr>\n",
       "    <tr>\n",
       "      <th>7</th>\n",
       "      <td>0.6</td>\n",
       "      <td>1</td>\n",
       "      <td>31</td>\n",
       "      <td>0.738095</td>\n",
       "      <td>0.445001</td>\n",
       "      <td>42</td>\n",
       "    </tr>\n",
       "    <tr>\n",
       "      <th>8</th>\n",
       "      <td>0.6</td>\n",
       "      <td>2</td>\n",
       "      <td>34</td>\n",
       "      <td>0.809524</td>\n",
       "      <td>0.397437</td>\n",
       "      <td>42</td>\n",
       "    </tr>\n",
       "    <tr>\n",
       "      <th>9</th>\n",
       "      <td>1.2</td>\n",
       "      <td>0</td>\n",
       "      <td>23</td>\n",
       "      <td>0.547619</td>\n",
       "      <td>0.503761</td>\n",
       "      <td>42</td>\n",
       "    </tr>\n",
       "    <tr>\n",
       "      <th>10</th>\n",
       "      <td>1.2</td>\n",
       "      <td>1</td>\n",
       "      <td>20</td>\n",
       "      <td>0.476190</td>\n",
       "      <td>0.505487</td>\n",
       "      <td>42</td>\n",
       "    </tr>\n",
       "    <tr>\n",
       "      <th>11</th>\n",
       "      <td>1.2</td>\n",
       "      <td>2</td>\n",
       "      <td>29</td>\n",
       "      <td>0.690476</td>\n",
       "      <td>0.467901</td>\n",
       "      <td>42</td>\n",
       "    </tr>\n",
       "    <tr>\n",
       "      <th>12</th>\n",
       "      <td>2.4</td>\n",
       "      <td>0</td>\n",
       "      <td>19</td>\n",
       "      <td>0.452381</td>\n",
       "      <td>0.503761</td>\n",
       "      <td>42</td>\n",
       "    </tr>\n",
       "    <tr>\n",
       "      <th>13</th>\n",
       "      <td>2.4</td>\n",
       "      <td>1</td>\n",
       "      <td>12</td>\n",
       "      <td>0.285714</td>\n",
       "      <td>0.457230</td>\n",
       "      <td>42</td>\n",
       "    </tr>\n",
       "    <tr>\n",
       "      <th>14</th>\n",
       "      <td>2.4</td>\n",
       "      <td>2</td>\n",
       "      <td>20</td>\n",
       "      <td>0.476190</td>\n",
       "      <td>0.505487</td>\n",
       "      <td>42</td>\n",
       "    </tr>\n",
       "    <tr>\n",
       "      <th>15</th>\n",
       "      <td>4.8</td>\n",
       "      <td>0</td>\n",
       "      <td>16</td>\n",
       "      <td>0.380952</td>\n",
       "      <td>0.491507</td>\n",
       "      <td>42</td>\n",
       "    </tr>\n",
       "    <tr>\n",
       "      <th>16</th>\n",
       "      <td>4.8</td>\n",
       "      <td>1</td>\n",
       "      <td>16</td>\n",
       "      <td>0.380952</td>\n",
       "      <td>0.491507</td>\n",
       "      <td>42</td>\n",
       "    </tr>\n",
       "    <tr>\n",
       "      <th>17</th>\n",
       "      <td>4.8</td>\n",
       "      <td>2</td>\n",
       "      <td>11</td>\n",
       "      <td>0.261905</td>\n",
       "      <td>0.445001</td>\n",
       "      <td>42</td>\n",
       "    </tr>\n",
       "    <tr>\n",
       "      <th>18</th>\n",
       "      <td>9.6</td>\n",
       "      <td>0</td>\n",
       "      <td>17</td>\n",
       "      <td>0.404762</td>\n",
       "      <td>0.496796</td>\n",
       "      <td>42</td>\n",
       "    </tr>\n",
       "    <tr>\n",
       "      <th>19</th>\n",
       "      <td>9.6</td>\n",
       "      <td>1</td>\n",
       "      <td>22</td>\n",
       "      <td>0.523810</td>\n",
       "      <td>0.505487</td>\n",
       "      <td>42</td>\n",
       "    </tr>\n",
       "    <tr>\n",
       "      <th>20</th>\n",
       "      <td>9.6</td>\n",
       "      <td>2</td>\n",
       "      <td>15</td>\n",
       "      <td>0.357143</td>\n",
       "      <td>0.484966</td>\n",
       "      <td>42</td>\n",
       "    </tr>\n",
       "  </tbody>\n",
       "</table>\n",
       "</div>"
      ],
      "text/plain": [
       "    v180  participant  sum      mean       std  size\n",
       "0    0.0            0   28  0.777778  0.421637    36\n",
       "1    0.0            1   30  0.833333  0.377964    36\n",
       "2    0.0            2   29  0.805556  0.401386    36\n",
       "3    0.3            0   34  0.809524  0.397437    42\n",
       "4    0.3            1   34  0.809524  0.397437    42\n",
       "5    0.3            2   34  0.809524  0.397437    42\n",
       "6    0.6            0   31  0.738095  0.445001    42\n",
       "7    0.6            1   31  0.738095  0.445001    42\n",
       "8    0.6            2   34  0.809524  0.397437    42\n",
       "9    1.2            0   23  0.547619  0.503761    42\n",
       "10   1.2            1   20  0.476190  0.505487    42\n",
       "11   1.2            2   29  0.690476  0.467901    42\n",
       "12   2.4            0   19  0.452381  0.503761    42\n",
       "13   2.4            1   12  0.285714  0.457230    42\n",
       "14   2.4            2   20  0.476190  0.505487    42\n",
       "15   4.8            0   16  0.380952  0.491507    42\n",
       "16   4.8            1   16  0.380952  0.491507    42\n",
       "17   4.8            2   11  0.261905  0.445001    42\n",
       "18   9.6            0   17  0.404762  0.496796    42\n",
       "19   9.6            1   22  0.523810  0.505487    42\n",
       "20   9.6            2   15  0.357143  0.484966    42"
      ]
     },
     "execution_count": 104,
     "metadata": {},
     "output_type": "execute_result"
    }
   ],
   "source": [
    "sumDL"
   ]
  },
  {
   "cell_type": "markdown",
   "metadata": {},
   "source": [
    "Looking at the instances of when the ring occurred vs. when it didn't (proportion), and large was the resulting ring in those instances (mean ring size)."
   ]
  },
  {
   "cell_type": "code",
   "execution_count": 101,
   "metadata": {
    "collapsed": false
   },
   "outputs": [
    {
     "data": {
      "text/plain": [
       "<seaborn.axisgrid.FacetGrid at 0x1090b31d0>"
      ]
     },
     "execution_count": 101,
     "metadata": {},
     "output_type": "execute_result"
    },
    {
     "data": {
      "image/png": "[encoded data removed]",
      "text/plain": [
       "<matplotlib.figure.Figure at 0x10b2ca510>"
      ]
     },
     "metadata": {},
     "output_type": "display_data"
    },
    {
     "data": {
      "image/png": "[encoded data removed]",
      "text/plain": [
       "<matplotlib.figure.Figure at 0x10b3b6c90>"
      ]
     },
     "metadata": {},
     "output_type": "display_data"
    }
   ],
   "source": [
    "# Rewring the ring size column so that the minimum size is equated to zero:\n",
    "ds.ix[ds['ringSz']==25.8,'ringSz'] = 0\n",
    "# Creating columns for the slower and faster of the two speeds:\n",
    "ds['vMin'] = np.amin([ds['vL'], ds['vR']], axis=0)\n",
    "ds['vMax'] = np.amax([ds['vL'], ds['vR']], axis=0)\n",
    "# Computing the proportion of instances when the ring has occurred:\n",
    "sumMM_p = ds.groupby(['vMin','vMax','participant'],\n",
    "                     as_index=False)['ringSz'].agg([np.count_nonzero, np.size]).reset_index()\n",
    "sumMM_p['pRing'] = sumMM_p['count_nonzero'] / sumMM_p['size']\n",
    "sumMM_p['vMin'] = sumMM_p['vMin']\n",
    "sumMM_p['vMax'] = sumMM_p['vMax']\n",
    "#print sumMM_p['ringSz']\n",
    "# Getting the subset where the ring size is nonzero and computing the mean size:\n",
    "ss = ds[ds.ringSz!=0]\n",
    "sumMM_m = ss.groupby(['vMin','vMax','participant'], \n",
    "                     as_index=False)['ringSz'].agg([np.mean, np.std]).reset_index()\n",
    "sumMM_m['vMin'] = sumMM_m['vMin']\n",
    "sumMM_m['vMax'] = sumMM_m['vMax']\n",
    "#print sumMM_m['ringSz']\n",
    "# Plotting:\n",
    "sns.factorplot(x='vMax', y='mean', hue='vMin', col='participant', data=sumMM_m, \n",
    "               col_wrap=4, size=3.5)\n",
    "sns.factorplot(x='vMax', y='pRing', hue='vMin', col='participant', data=sumMM_p, \n",
    "               col_wrap=4, size=3.5)"
   ]
  },
  {
   "cell_type": "markdown",
   "metadata": {},
   "source": [
    "Number of instances when the ring was indicated."
   ]
  },
  {
   "cell_type": "code",
   "execution_count": 109,
   "metadata": {
    "collapsed": false
   },
   "outputs": [
    {
     "data": {
      "text/html": [
       "<div>\n",
       "<table border=\"1\" class=\"dataframe\">\n",
       "  <thead>\n",
       "    <tr style=\"text-align: right;\">\n",
       "      <th></th>\n",
       "      <th>participant</th>\n",
       "      <th>count_nonzero</th>\n",
       "      <th>size</th>\n",
       "    </tr>\n",
       "  </thead>\n",
       "  <tbody>\n",
       "    <tr>\n",
       "      <th>0</th>\n",
       "      <td>0</td>\n",
       "      <td>132.0</td>\n",
       "      <td>288.0</td>\n",
       "    </tr>\n",
       "    <tr>\n",
       "      <th>1</th>\n",
       "      <td>1</td>\n",
       "      <td>62.0</td>\n",
       "      <td>288.0</td>\n",
       "    </tr>\n",
       "    <tr>\n",
       "      <th>2</th>\n",
       "      <td>2</td>\n",
       "      <td>5.0</td>\n",
       "      <td>288.0</td>\n",
       "    </tr>\n",
       "  </tbody>\n",
       "</table>\n",
       "</div>"
      ],
      "text/plain": [
       "   participant  count_nonzero   size\n",
       "0            0          132.0  288.0\n",
       "1            1           62.0  288.0\n",
       "2            2            5.0  288.0"
      ]
     },
     "execution_count": 109,
     "metadata": {},
     "output_type": "execute_result"
    }
   ],
   "source": [
    "ds.groupby(['participant'],\n",
    "                     as_index=False)['ringSz'].agg([np.count_nonzero, np.size]).reset_index()"
   ]
  },
  {
   "cell_type": "markdown",
   "metadata": {},
   "source": [
    "# Eye-tracking data"
   ]
  },
  {
   "cell_type": "markdown",
   "metadata": {},
   "source": [
    "## Data import"
   ]
  },
  {
   "cell_type": "code",
   "execution_count": 18,
   "metadata": {
    "collapsed": false,
    "scrolled": true
   },
   "outputs": [
    {
     "name": "stdout",
     "output_type": "stream",
     "text": [
      "/Users/Egor/Dropbox/Projects/mc/data/mcvct/mcvct_p0_s1_2016-10-18_1556/data.asc\n",
      "          x_l    y_l   pup_l     x_r    y_r   pup_r\n",
      "onset                                              \n",
      "849896  946.6  353.0  6787.0  1108.2  353.0  6635.0\n",
      "849898  946.6  353.0  6788.0  1108.3  353.0  6639.0\n",
      "849900  946.9  353.0  6790.0  1108.4  353.0  6639.0\n",
      "849902  946.9  353.0  6793.0  1108.5  353.0  6639.0\n",
      "849904  946.6  353.0  6794.0  1108.5  353.0  6644.0\n",
      "Index([u'x_l', u'y_l', u'pup_l', u'x_r', u'y_r', u'pup_r'], dtype='object')\n",
      "8423\n"
     ]
    }
   ],
   "source": [
    "subjEtPath = glob.glob(allSubjDirs[0] + '/' + 'data.asc')[0]\n",
    "print subjEtPath\n",
    "# Importing the data set the first time, with all the accompanying mess, for reading messages:\n",
    "with open(subjEtPath) as f:\n",
    "    mess = f.readlines()\n",
    "# A cleaner import using cili to just read out the ET data:\n",
    "from cili.util import *\n",
    "from cili.cleanup import *\n",
    "samps, events = load_eyelink_dataset(subjEtPath)\n",
    "# Optional cleaning (probably not necessary):\n",
    "#samps = interp_eyelink_blinks(samps, events, interp_fields=[\"pup_l\"])\n",
    "#samps = interp_zeros(samps, interp_fields=[\"pup_l\"])\n",
    "print samps.head(5)\n",
    "print samps.columns\n",
    "#print samps.ix[849896:849900]\n",
    "# cili's native extraction of ranges for each event unfortunately doesn't work, although...\n",
    "# ... I probably don't need it anyway:\n",
    "#from cili.extract import extract_event_ranges\n",
    "#ranges = extract_event_ranges(samps, events, end_offset=1000)\n",
    "# With the 'messy' data set, creating a lookup table with the trial numbers and time stamps:\n",
    "trialStr = [s for s in mess if 'TRIALID' in s]\n",
    "trialTS = map(int,[s[s.index('\\t')+1:s.index(' T')] for s in trialStr])\n",
    "trialN = map(int,[s[s.index('D ')+2:s.index('\\n')] for s in trialStr])\n",
    "trialStartStr = [s for s in mess if 'START' in s]\n",
    "trialStart = map(int,[s[s.index('\\t')+1:s.index(' \\t')] for s in trialStartStr])\n",
    "trialEndStr = [s for s in mess if 'END' in s]\n",
    "trialEnd = map(int,[s[s.index('\\t')+1:s.index(' \\t')] for s in trialEndStr])\n",
    "trials = pd.DataFrame({'trialN':trialN, 'trialTS':trialTS, 'trialStartTS':trialStart,\n",
    "                      'trialEndTS':trialEnd})\n",
    "trials['trialLength'] = trials['trialEndTS'] - trials['trialStartTS']\n",
    "trials = trials[['trialN', 'trialTS', 'trialStartTS', 'trialEndTS', 'trialLength']]\n",
    "print np.max(trials['trialLength'])\n",
    "#print trials.head(5)"
   ]
  },
  {
   "cell_type": "code",
   "execution_count": null,
   "metadata": {
    "collapsed": true
   },
   "outputs": [],
   "source": [
    "# Creating my own ranges for each trial, with N number of samples:\n",
    "#nSamples = 1500\n",
    "#ranges = np.zeros((len(trialN),nSamples,6)) # 6 is for all six variables (L/R x,y,pup)\n",
    "#print trialTS[0]\n",
    "#print samps.ix[samps.ix>trialTS[0],0]\n",
    "#print samps.index\n",
    "#print samps.ix[int(trialTS[0]):int(trialTS[0])+600]\n",
    "#print trialN\n",
    "#trialStart = trialN # initiating a new variable to collect the 'actual' start\n",
    "#trialEnd = trialN # the 'actual' end\n",
    "#print trialN[-1] == 96\n",
    "#for t in trialN:\n",
    "    #print t\n",
    "    # the actual start is the first data point following a trial time stamp:\n",
    "    #trialStart[t-1] = samps.index[next(x[0] for x in enumerate(samps.index) if x[1] > trialTS[t-1])]\n",
    "    #trialStart[t-1] = \n",
    "    #print t==trialN[-1]\n",
    "    #if t != 96: # trialN[-1]: #WHY DOESN'T THIS WORK?!\n",
    "        #print trialTS[t]\n",
    "        #trialEnd[t-1] = samps.index[next(x[0] for x in enumerate(samps.index) if x[1] > trialTS[t])]\n",
    "    #else:\n",
    "        #trialEnd[t-1] = samps.index[-1]\n",
    "    #end = trialStart[t-1]+nSamples\n",
    "    #print end\n",
    "    #ranges[t,:,:] = samps.ix[beg:end]\n",
    "    #samps.ix[int(trialTS[int(t)-1]):int(trialTS[int(t)-1]+nSamples)]\n",
    "#print trialStart\n",
    "#print trialEnd"
   ]
  }
 ],
 "metadata": {
  "kernelspec": {
   "display_name": "Python 2",
   "language": "python",
   "name": "python2"
  },
  "language_info": {
   "codemirror_mode": {
    "name": "ipython",
    "version": 2
   },
   "file_extension": ".py",
   "mimetype": "text/x-python",
   "name": "python",
   "nbconvert_exporter": "python",
   "pygments_lexer": "ipython2",
   "version": "2.7.6"
  }
 },
 "nbformat": 4,
 "nbformat_minor": 1
}

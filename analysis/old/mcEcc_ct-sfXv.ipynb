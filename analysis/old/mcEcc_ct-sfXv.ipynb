{
 "cells": [
  {
   "cell_type": "markdown",
   "metadata": {},
   "source": [
    "# Behavioural analysis"
   ]
  },
  {
   "cell_type": "markdown",
   "metadata": {},
   "source": [
    "## Preparing the data"
   ]
  },
  {
   "cell_type": "code",
   "execution_count": 2,
   "metadata": {
    "collapsed": false
   },
   "outputs": [],
   "source": [
    "import numpy as np\n",
    "import pandas as pd\n",
    "import matplotlib.pyplot as plt\n",
    "import seaborn as sns\n",
    "import os, glob"
   ]
  },
  {
   "cell_type": "markdown",
   "metadata": {},
   "source": [
    "Loading the data:"
   ]
  },
  {
   "cell_type": "code",
   "execution_count": 6,
   "metadata": {
    "collapsed": false
   },
   "outputs": [
    {
     "name": "stdout",
     "output_type": "stream",
     "text": [
      "C:\\Users\\Egor\\Dropbox\\Projects\\mc\\data\\mcEcc_ct-sfXv\\mcEcc_ct-sfXv_p0_s3_2016-11-02_1706\n",
      "(144, 39)\n",
      "Index([u'expName', u'time', u'participant', u'session', u'trialN', u'dirL',\n",
      "       u'dirR', u'vL', u'vR', u'szL', u'szR', u'sfL', u'sfR', u'tfL', u'tfR',\n",
      "       u'BvL', u'BvR', u'BsfL', u'BsfR', u'colorL', u'colorR', u'sat',\n",
      "       u'fovGap', u'fovFade', u'periGap', u'periFade', u'trialT', u'nFrames',\n",
      "       u'nNa', u'nf000', u'nf090', u'nf180', u'nf270', u'pd000', u'pd090',\n",
      "       u'pd180', u'pd270', u'qnResp', u'ringSz'],\n",
      "      dtype='object')\n"
     ]
    }
   ],
   "source": [
    "%matplotlib inline\n",
    "plt.style.use('dark_background')\n",
    "expName = 'mcEcc_ct-sfXv'\n",
    "dataDir = os.path.abspath(os.path.join(os.getcwd(), '..', '..', 'data/', expName))\n",
    "allSubjDirs = glob.glob(dataDir + '/' + expName + '*')\n",
    "#print allSubjDirs\n",
    "ds = pd.DataFrame()\n",
    "for subjDir in allSubjDirs:\n",
    "    print subjDir\n",
    "    subjFilePath = glob.glob(subjDir + '/' + expName + '*.csv')[0]\n",
    "    #print subjFilePath\n",
    "    #ss = pd.read_csv(subjFilePath)\n",
    "    ds = ds.append(pd.read_csv(subjFilePath))\n",
    "#print ds.head(5)\n",
    "print ds.shape\n",
    "print ds.columns"
   ]
  },
  {
   "cell_type": "markdown",
   "metadata": {},
   "source": [
    "Transforming the data set first."
   ]
  },
  {
   "cell_type": "markdown",
   "metadata": {},
   "source": [
    "### Data transformation"
   ]
  },
  {
   "cell_type": "code",
   "execution_count": 8,
   "metadata": {
    "collapsed": false
   },
   "outputs": [
    {
     "name": "stdout",
     "output_type": "stream",
     "text": [
      "         expName             time  participant  session  trialN  dirL  dirR  \\\n",
      "0  mcEcc_ct-sfXv  2016-11-02_1706            0        3       1     0   180   \n",
      "1  mcEcc_ct-sfXv  2016-11-02_1706            0        3       2   180     0   \n",
      "2  mcEcc_ct-sfXv  2016-11-02_1706            0        3       3     0   180   \n",
      "3  mcEcc_ct-sfXv  2016-11-02_1706            0        3       4   180     0   \n",
      "4  mcEcc_ct-sfXv  2016-11-02_1706            0        3       5   180     0   \n",
      "\n",
      "    vL   vR  szL  ...       ringSz  vMin  vMax  fast  slow  sfMin  sfMax  \\\n",
      "0  9.6  1.2  256  ...    99.514286   1.2   9.6     0     0   0.01   0.07   \n",
      "1  9.6  1.2  256  ...   136.371429   1.2   9.6     0     0   0.02   0.07   \n",
      "2  9.6  1.2  256  ...   136.371429   1.2   9.6     0     0   0.04   0.04   \n",
      "3  1.2  9.6  256  ...   210.085714   1.2   9.6     1     0   0.02   0.16   \n",
      "4  9.6  1.2  256  ...   136.371429   1.2   9.6     0     0   0.04   0.07   \n",
      "\n",
      "   sfDiff  highSf lowSf  \n",
      "0    0.06       0     0  \n",
      "1    0.05       0     0  \n",
      "2    0.00       0     0  \n",
      "3    0.14       1     0  \n",
      "4    0.03       0     0  \n",
      "\n",
      "[5 rows x 48 columns]\n"
     ]
    }
   ],
   "source": [
    "# Ring size:\n",
    "ds.ix[ds.ringSz==25.8,'ringSz'] = 0\n",
    "# Velocity variables:\n",
    "ds['vMin'] = np.amin([ds.vL, ds.vR], axis=0)\n",
    "ds['vMax'] = np.amax([ds.vL, ds.vR], axis=0)\n",
    "ds['fast'] = 0\n",
    "ds.ix[(ds.nf180==1) & (ds.vL==ds.vMax),'fast'] = 1\n",
    "ds.ix[(ds.nf000==1) & (ds.vR==ds.vMax),'fast'] = 1\n",
    "ds['slow'] = 0\n",
    "ds.ix[(ds.nf180==1) & (ds.vL==ds.vMin),'slow'] = 1\n",
    "ds.ix[(ds.nf000==1) & (ds.vR==ds.vMin),'slow'] = 1\n",
    "# Spatial frequency variables:\n",
    "ds['sfMin'] = np.amin([ds['sfL'], ds['sfR']], axis=0)\n",
    "ds['sfMax'] = np.amax([ds['sfL'], ds['sfR']], axis=0)\n",
    "ds['sfDiff'] = abs(ds['sfR'] - ds['sfL'])\n",
    "ds['highSf'] = 0\n",
    "ds.ix[(ds.nf180==1) & (ds.sfL==ds.sfMax),'highSf'] = 1\n",
    "ds.ix[(ds.nf000==1) & (ds.sfR==ds.sfMax),'highSf'] = 1\n",
    "ds['lowSf'] = 0\n",
    "ds.ix[(ds.nf180==1) & (ds.sfL==ds.sfMin),'lowSf'] = 1\n",
    "ds.ix[(ds.nf000==1) & (ds.sfR==ds.sfMin),'lowSf'] = 1\n",
    "#ds = ds.reset_index(drop=True) # resetting the index as there are row duplicates\n",
    "# Using the following variable in multiple instances throughout\n",
    "ssNoRing = ds[ds.ringSz==0] # no center/surround phenomenon was observed\n",
    "print ds.head(5)"
   ]
  },
  {
   "cell_type": "markdown",
   "metadata": {},
   "source": [
    "## Visualization"
   ]
  },
  {
   "cell_type": "markdown",
   "metadata": {},
   "source": [
    "### Transparency / paternless patchiness"
   ]
  },
  {
   "cell_type": "code",
   "execution_count": 9,
   "metadata": {
    "collapsed": false
   },
   "outputs": [
    {
     "data": {
      "text/plain": [
       "(-0.5, 8)"
      ]
     },
     "execution_count": 9,
     "metadata": {},
     "output_type": "execute_result"
    },
    {
     "data": {
      "image/png": "[encoded data removed]",
      "text/plain": [
       "<matplotlib.figure.Figure at 0xcf75cc0>"
      ]
     },
     "metadata": {},
     "output_type": "display_data"
    }
   ],
   "source": [
    "sumU = ds.groupby(['sfMin','sfMax','participant'])['nf090'].agg([np.sum, np.mean, np.std, np.size]).reset_index()\n",
    "g = sns.factorplot(x='sfMin', y='sum', hue='sfMax',col='participant', data=sumU, size=3)\n",
    "plt.ylim(-0.5,np.max(sumU['size']))"
   ]
  },
  {
   "cell_type": "markdown",
   "metadata": {},
   "source": [
    "### Fast/slow whole-field (non-patchy) responses"
   ]
  },
  {
   "cell_type": "markdown",
   "metadata": {},
   "source": [
    "Looking at the fast/slow motion dominating the entire/most of the visual field as a function of the two competing sf's."
   ]
  },
  {
   "cell_type": "markdown",
   "metadata": {},
   "source": [
    "#### Fast whole-field responses"
   ]
  },
  {
   "cell_type": "code",
   "execution_count": 10,
   "metadata": {
    "collapsed": false
   },
   "outputs": [
    {
     "data": {
      "text/plain": [
       "(-0.1, 1.1)"
      ]
     },
     "execution_count": 10,
     "metadata": {},
     "output_type": "execute_result"
    },
    {
     "data": {
      "image/png": "[encoded data removed]",
      "text/plain": [
       "<matplotlib.figure.Figure at 0xcb35a58>"
      ]
     },
     "metadata": {},
     "output_type": "display_data"
    },
    {
     "data": {
      "image/png": "[encoded data removed]",
      "text/plain": [
       "<matplotlib.figure.Figure at 0xd401a90>"
      ]
     },
     "metadata": {},
     "output_type": "display_data"
    }
   ],
   "source": [
    "sumFast = ssNoRing.groupby(['sfMin','sfMax','participant'])['fast'].agg([np.sum, np.mean, np.std, np.size]).reset_index()\n",
    "sumFast = sumFast.rename(columns={ 'sum' : 'nFast'})\n",
    "g = sns.factorplot(x='sfMin', y='nFast', hue='sfMax', col='participant', data=sumFast, size=3)\n",
    "plt.ylim(-0.5,np.max(sumFast['size']))\n",
    "sumFast = sumFast.rename(columns={ 'mean' : 'pFast'})\n",
    "g = sns.factorplot(x='sfMin', y='pFast', hue='sfMax', col='participant', data=sumFast, size=3)\n",
    "plt.ylim(-0.1,1.1)"
   ]
  },
  {
   "cell_type": "markdown",
   "metadata": {},
   "source": [
    "It seems that fast motion is more likely to dominate the whole field when the relatively high sf (>0.07) is competing with moderately low sf (0.02-0.04)."
   ]
  },
  {
   "cell_type": "markdown",
   "metadata": {},
   "source": [
    "#### Slow whole-field responses"
   ]
  },
  {
   "cell_type": "code",
   "execution_count": 11,
   "metadata": {
    "collapsed": false
   },
   "outputs": [
    {
     "data": {
      "text/plain": [
       "(-0.1, 1.1)"
      ]
     },
     "execution_count": 11,
     "metadata": {},
     "output_type": "execute_result"
    },
    {
     "data": {
      "image/png": "[encoded data removed]",
      "text/plain": [
       "<matplotlib.figure.Figure at 0xcf3a128>"
      ]
     },
     "metadata": {},
     "output_type": "display_data"
    },
    {
     "data": {
      "image/png": "[encoded data removed]",
      "text/plain": [
       "<matplotlib.figure.Figure at 0xcc58b00>"
      ]
     },
     "metadata": {},
     "output_type": "display_data"
    }
   ],
   "source": [
    "sumSlow = ssNoRing.groupby(['sfMin','sfMax','participant'])['slow'].agg([np.sum, np.mean, np.std, np.size]).reset_index()\n",
    "sumSlow = sumSlow.rename(columns={ 'sum' : 'nSlow'})\n",
    "g = sns.factorplot(x='sfMin', y='nSlow', hue='sfMax', col='participant', data=sumSlow, size=3)\n",
    "plt.ylim(-0.5,np.max(sumSlow['size']))\n",
    "sumSlow = sumSlow.rename(columns={ 'mean' : 'pSlow'})\n",
    "g = sns.factorplot(x='sfMin', y='pSlow', hue='sfMax', col='participant', data=sumSlow, size=3)\n",
    "plt.ylim(-0.1,1.1)"
   ]
  },
  {
   "cell_type": "markdown",
   "metadata": {},
   "source": [
    "However, scenarios when the slow motion dominates the whole field seem to be just as frequent, especially when high sf is competing with low to moderate sf."
   ]
  },
  {
   "cell_type": "markdown",
   "metadata": {},
   "source": [
    "### High/low sf whole-field responses"
   ]
  },
  {
   "cell_type": "markdown",
   "metadata": {},
   "source": [
    "#### High-sf whole-field trials"
   ]
  },
  {
   "cell_type": "code",
   "execution_count": 13,
   "metadata": {
    "collapsed": false
   },
   "outputs": [
    {
     "data": {
      "text/plain": [
       "(-0.1, 1.1)"
      ]
     },
     "execution_count": 13,
     "metadata": {},
     "output_type": "execute_result"
    },
    {
     "data": {
      "image/png": "[encoded data removed]",
      "text/plain": [
       "<matplotlib.figure.Figure at 0xd5f8d30>"
      ]
     },
     "metadata": {},
     "output_type": "display_data"
    },
    {
     "data": {
      "image/png": "[encoded data removed]",
      "text/plain": [
       "<matplotlib.figure.Figure at 0xdc6c208>"
      ]
     },
     "metadata": {},
     "output_type": "display_data"
    }
   ],
   "source": [
    "sumHighSf = ssNoRing.groupby(['sfMin','sfMax','participant'])['highSf'].agg([np.sum, np.mean, np.std, np.size]).reset_index()\n",
    "sumHighSf = sumHighSf.rename(columns={ 'sum' : 'nHighSf'})\n",
    "g = sns.factorplot(x='sfMin', y='nHighSf', hue='sfMax', col='participant', data=sumHighSf, size=3)\n",
    "#plt.ylim(-0.5,np.max(sumHighSf['size']))\n",
    "sumHighSf = sumHighSf.rename(columns={ 'mean' : 'pHighSf'})\n",
    "g = sns.factorplot(x='sfMin', y='pHighSf', hue='sfMax', col='participant', data=sumHighSf, size=3)\n",
    "plt.ylim(-0.1,1.1)"
   ]
  },
  {
   "cell_type": "code",
   "execution_count": 14,
   "metadata": {
    "collapsed": false
   },
   "outputs": [
    {
     "data": {
      "text/plain": [
       "(-0.1, 1.1)"
      ]
     },
     "execution_count": 14,
     "metadata": {},
     "output_type": "execute_result"
    },
    {
     "data": {
      "image/png": "[encoded data removed]",
      "text/plain": [
       "<matplotlib.figure.Figure at 0xd788dd8>"
      ]
     },
     "metadata": {},
     "output_type": "display_data"
    },
    {
     "data": {
      "image/png": "[encoded data removed]",
      "text/plain": [
       "<matplotlib.figure.Figure at 0xe0e7908>"
      ]
     },
     "metadata": {},
     "output_type": "display_data"
    }
   ],
   "source": [
    "sumLowSf = ssNoRing.groupby(['sfMin','sfMax','participant'])['lowSf'].agg([np.sum, np.mean, np.std, np.size]).reset_index()\n",
    "sumLowSf = sumLowSf.rename(columns={ 'sum' : 'nLowSf'})\n",
    "g = sns.factorplot(x='sfMin', y='nLowSf', hue='sfMax', col='participant', data=sumLowSf, size=3)\n",
    "plt.ylim(-0.5,np.max(sumLowSf['size']))\n",
    "sumLowSf = sumLowSf.rename(columns={ 'mean' : 'pLowSf'})\n",
    "g = sns.factorplot(x='sfMin', y='pLowSf', hue='sfMax', col='participant', data=sumLowSf, size=3)\n",
    "plt.ylim(-0.1,1.1)"
   ]
  },
  {
   "cell_type": "code",
   "execution_count": 15,
   "metadata": {
    "collapsed": false
   },
   "outputs": [
    {
     "ename": "AttributeError",
     "evalue": "'DataFrame' object has no attribute 'resp'",
     "output_type": "error",
     "traceback": [
      "\u001b[0;31m\u001b[0m",
      "\u001b[0;31mAttributeError\u001b[0mTraceback (most recent call last)",
      "\u001b[0;32m<ipython-input-15-c9394ac15fbd>\u001b[0m in \u001b[0;36m<module>\u001b[0;34m()\u001b[0m\n\u001b[1;32m      1\u001b[0m \u001b[1;31m# Computing the proportion of instances when the ring has occurred:\u001b[0m\u001b[1;33m\u001b[0m\u001b[1;33m\u001b[0m\u001b[0m\n\u001b[0;32m----> 2\u001b[0;31m \u001b[0mss\u001b[0m \u001b[1;33m=\u001b[0m \u001b[0mds\u001b[0m\u001b[1;33m[\u001b[0m\u001b[0mds\u001b[0m\u001b[1;33m.\u001b[0m\u001b[0mresp\u001b[0m\u001b[1;33m==\u001b[0m\u001b[1;34m'slow'\u001b[0m\u001b[1;33m]\u001b[0m\u001b[1;33m\u001b[0m\u001b[0m\n\u001b[0m\u001b[1;32m      3\u001b[0m sumMM_p = ss.groupby(['resp','sfL','sfR','participant'])['ringSz'].agg([np.count_nonzero, \n\u001b[1;32m      4\u001b[0m                                                                      np.size]).reset_index()\n\u001b[1;32m      5\u001b[0m \u001b[0msumMM_p\u001b[0m\u001b[1;33m[\u001b[0m\u001b[1;34m'pRing'\u001b[0m\u001b[1;33m]\u001b[0m \u001b[1;33m=\u001b[0m \u001b[0msumMM_p\u001b[0m\u001b[1;33m[\u001b[0m\u001b[1;34m'count_nonzero'\u001b[0m\u001b[1;33m]\u001b[0m \u001b[1;33m/\u001b[0m \u001b[0msumMM_p\u001b[0m\u001b[1;33m[\u001b[0m\u001b[1;34m'size'\u001b[0m\u001b[1;33m]\u001b[0m\u001b[1;33m\u001b[0m\u001b[0m\n",
      "\u001b[0;32mC:\\Users\\Egor\\Anaconda2\\lib\\site-packages\\pandas\\core\\generic.pyc\u001b[0m in \u001b[0;36m__getattr__\u001b[0;34m(self, name)\u001b[0m\n\u001b[1;32m   2742\u001b[0m             \u001b[1;32mif\u001b[0m \u001b[0mname\u001b[0m \u001b[1;32min\u001b[0m \u001b[0mself\u001b[0m\u001b[1;33m.\u001b[0m\u001b[0m_info_axis\u001b[0m\u001b[1;33m:\u001b[0m\u001b[1;33m\u001b[0m\u001b[0m\n\u001b[1;32m   2743\u001b[0m                 \u001b[1;32mreturn\u001b[0m \u001b[0mself\u001b[0m\u001b[1;33m[\u001b[0m\u001b[0mname\u001b[0m\u001b[1;33m]\u001b[0m\u001b[1;33m\u001b[0m\u001b[0m\n\u001b[0;32m-> 2744\u001b[0;31m             \u001b[1;32mreturn\u001b[0m \u001b[0mobject\u001b[0m\u001b[1;33m.\u001b[0m\u001b[0m__getattribute__\u001b[0m\u001b[1;33m(\u001b[0m\u001b[0mself\u001b[0m\u001b[1;33m,\u001b[0m \u001b[0mname\u001b[0m\u001b[1;33m)\u001b[0m\u001b[1;33m\u001b[0m\u001b[0m\n\u001b[0m\u001b[1;32m   2745\u001b[0m \u001b[1;33m\u001b[0m\u001b[0m\n\u001b[1;32m   2746\u001b[0m     \u001b[1;32mdef\u001b[0m \u001b[0m__setattr__\u001b[0m\u001b[1;33m(\u001b[0m\u001b[0mself\u001b[0m\u001b[1;33m,\u001b[0m \u001b[0mname\u001b[0m\u001b[1;33m,\u001b[0m \u001b[0mvalue\u001b[0m\u001b[1;33m)\u001b[0m\u001b[1;33m:\u001b[0m\u001b[1;33m\u001b[0m\u001b[0m\n",
      "\u001b[0;31mAttributeError\u001b[0m: 'DataFrame' object has no attribute 'resp'"
     ]
    }
   ],
   "source": [
    "# Computing the proportion of instances when the ring has occurred:\n",
    "ss = ds[ds.resp=='slow']\n",
    "sumMM_p = ss.groupby(['resp','sfL','sfR','participant'])['ringSz'].agg([np.count_nonzero, \n",
    "                                                                     np.size]).reset_index()\n",
    "sumMM_p['pRing'] = sumMM_p['count_nonzero'] / sumMM_p['size']\n",
    "sumMM_p['bvMin'] = sumMM_p['bvMin']\n",
    "sumMM_p['bvMax'] = sumMM_p['bvMax']\n",
    "#print sumMM_p['ringSz']\n",
    "# Getting the subset where the ring size is nonzero and computing the mean size:\n",
    "ss = ss[ss.ringSz!=0]\n",
    "sumMM_m = ss.groupby(['bvMin','bvMax','participant'])['ringSz'].agg([np.mean,\n",
    "                                                                     np.std]).reset_index()\n",
    "sumMM_m['bvMin'] = sumMM_m['bvMin']\n",
    "sumMM_m['bvMax'] = sumMM_m['bvMax']\n",
    "#print sumMM_m['ringSz']\n",
    "# Plotting:\n",
    "sns.factorplot(x='bvMax', y='mean', hue='bvMin', col='participant', data=sumMM_m, \n",
    "               col_wrap=4, size=3.5)\n",
    "plt.ylim(0,230)\n",
    "sns.factorplot(x='bvMax', y='pRing', hue='bvMin', col='participant', data=sumMM_p, \n",
    "               col_wrap=4, size=3.5)\n",
    "plt.ylim(-0.1,1.1)"
   ]
  },
  {
   "cell_type": "markdown",
   "metadata": {},
   "source": [
    "Fast motion in the center."
   ]
  },
  {
   "cell_type": "code",
   "execution_count": null,
   "metadata": {
    "collapsed": false
   },
   "outputs": [],
   "source": [
    "# Computing the proportion of instances when the ring has occurred:\n",
    "ss = ds[ds.resp=='fast']\n",
    "sumMM_p = ss.groupby(['bvMin','bvMax','participant'])['ringSz'].agg([np.count_nonzero, \n",
    "                                                                     np.size]).reset_index()\n",
    "sumMM_p['pRing'] = sumMM_p['count_nonzero'] / sumMM_p['size']\n",
    "sumMM_p['bvMin'] = sumMM_p['bvMin']\n",
    "sumMM_p['bvMax'] = sumMM_p['bvMax']\n",
    "#print sumMM_p['ringSz']\n",
    "# Getting the subset where the ring size is nonzero and computing the mean size:\n",
    "ss = ss[ss.ringSz!=0]\n",
    "sumMM_m = ss.groupby(['bvMin','bvMax','participant'])['ringSz'].agg([np.mean,\n",
    "                                                                     np.std]).reset_index()\n",
    "sumMM_m['bvMin'] = sumMM_m['bvMin']\n",
    "sumMM_m['bvMax'] = sumMM_m['bvMax']\n",
    "#print sumMM_m['ringSz']\n",
    "# Plotting:\n",
    "sns.factorplot(x='bvMax', y='mean', hue='bvMin', col='participant', data=sumMM_m, \n",
    "               col_wrap=4, size=3.5)\n",
    "plt.ylim(0,230)\n",
    "sns.factorplot(x='bvMax', y='pRing', hue='bvMin', col='participant', data=sumMM_p, \n",
    "               col_wrap=4, size=3.5)\n",
    "plt.ylim(-0.1,1.1)"
   ]
  },
  {
   "cell_type": "markdown",
   "metadata": {},
   "source": [
    "# Eye-tracking data"
   ]
  },
  {
   "cell_type": "markdown",
   "metadata": {},
   "source": [
    "## Data import"
   ]
  },
  {
   "cell_type": "code",
   "execution_count": null,
   "metadata": {
    "collapsed": false,
    "scrolled": true
   },
   "outputs": [],
   "source": [
    "subjEtPath = glob.glob(allSubjDirs[6] + '/' + 'data.asc')[0]\n",
    "print subjEtPath\n",
    "# Importing the data set the first time, with all the accompanying mess, for reading messages:\n",
    "with open(subjEtPath) as f:\n",
    "    mess = f.readlines()\n",
    "# A cleaner import using cili to just read out the ET data:\n",
    "from cili.util import *\n",
    "from cili.cleanup import *\n",
    "samps, events = load_eyelink_dataset(subjEtPath)\n",
    "# Optional cleaning (probably not necessary):\n",
    "#samps = interp_eyelink_blinks(samps, events, interp_fields=[\"pup_l\"])\n",
    "#samps = interp_zeros(samps, interp_fields=[\"pup_l\"])\n",
    "print samps.head(5)\n",
    "print samps.columns\n",
    "#print samps.ix[849896:849900]\n",
    "# cili's native extraction of ranges for each event unfortunately doesn't work, although...\n",
    "# ... I probably don't need it anyway:\n",
    "from cili.extract import extract_event_ranges\n",
    "ranges = extract_event_ranges(samps, events, end_offset=1000)\n",
    "# With the 'messy' data set, creating a lookup table with the trial numbers and time stamps:\n",
    "trialStr = [s for s in mess if 'TRIALID' in s]\n",
    "trialTS = map(int,[s[s.index('\\t')+1:s.index(' T')] for s in trialStr])\n",
    "trialN = map(int,[s[s.index('D ')+2:s.index('\\n')] for s in trialStr])\n",
    "trialStartStr = [s for s in mess if 'START' in s]\n",
    "trialStart = map(int,[s[s.index('\\t')+1:s.index(' \\t')] for s in trialStartStr])\n",
    "trialEndStr = [s for s in mess if 'END' in s]\n",
    "trialEnd = map(int,[s[s.index('\\t')+1:s.index(' \\t')] for s in trialEndStr])\n",
    "trials = pd.DataFrame({'trialN':trialN, 'trialTS':trialTS, 'trialStartTS':trialStart,\n",
    "                      'trialEndTS':trialEnd})\n",
    "trials['trialLength'] = trials['trialEndTS'] - trials['trialStartTS']\n",
    "trials = trials[['trialN', 'trialTS', 'trialStartTS', 'trialEndTS', 'trialLength']]\n",
    "print np.max(trials['trialLength'])\n",
    "#print trials.head(5)"
   ]
  },
  {
   "cell_type": "code",
   "execution_count": null,
   "metadata": {
    "collapsed": true
   },
   "outputs": [],
   "source": [
    "# Creating my own ranges for each trial, with N number of samples:\n",
    "#nSamples = 1500\n",
    "#ranges = np.zeros((len(trialN),nSamples,6)) # 6 is for all six variables (L/R x,y,pup)\n",
    "#print trialTS[0]\n",
    "#print samps.ix[samps.ix>trialTS[0],0]\n",
    "#print samps.index\n",
    "#print samps.ix[int(trialTS[0]):int(trialTS[0])+600]\n",
    "#print trialN\n",
    "#trialStart = trialN # initiating a new variable to collect the 'actual' start\n",
    "#trialEnd = trialN # the 'actual' end\n",
    "#print trialN[-1] == 96\n",
    "#for t in trialN:\n",
    "    #print t\n",
    "    # the actual start is the first data point following a trial time stamp:\n",
    "    #trialStart[t-1] = samps.index[next(x[0] for x in enumerate(samps.index) if x[1] > trialTS[t-1])]\n",
    "    #trialStart[t-1] = \n",
    "    #print t==trialN[-1]\n",
    "    #if t != 96: # trialN[-1]: #WHY DOESN'T THIS WORK?!\n",
    "        #print trialTS[t]\n",
    "        #trialEnd[t-1] = samps.index[next(x[0] for x in enumerate(samps.index) if x[1] > trialTS[t])]\n",
    "    #else:\n",
    "        #trialEnd[t-1] = samps.index[-1]\n",
    "    #end = trialStart[t-1]+nSamples\n",
    "    #print end\n",
    "    #ranges[t,:,:] = samps.ix[beg:end]\n",
    "    #samps.ix[int(trialTS[int(t)-1]):int(trialTS[int(t)-1]+nSamples)]\n",
    "#print trialStart\n",
    "#print trialEnd"
   ]
  }
 ],
 "metadata": {
  "kernelspec": {
   "display_name": "Python [Root]",
   "language": "python",
   "name": "Python [Root]"
  },
  "language_info": {
   "codemirror_mode": {
    "name": "ipython",
    "version": 2
   },
   "file_extension": ".py",
   "mimetype": "text/x-python",
   "name": "python",
   "nbconvert_exporter": "python",
   "pygments_lexer": "ipython2",
   "version": "2.7.12"
  }
 },
 "nbformat": 4,
 "nbformat_minor": 1
}
